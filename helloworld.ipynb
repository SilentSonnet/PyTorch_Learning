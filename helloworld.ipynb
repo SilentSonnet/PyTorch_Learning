{
 "cells": [
  {
   "cell_type": "code",
   "execution_count": 85,
   "metadata": {},
   "outputs": [
    {
     "name": "stdout",
     "output_type": "stream",
     "text": [
      "tensor([[0.1013, 0.9210, 0.8042],\n",
      "        [0.4420, 0.1865, 0.2049],\n",
      "        [0.5451, 0.7458, 0.3245],\n",
      "        [0.7901, 0.6071, 0.9116],\n",
      "        [0.6055, 0.6524, 0.4136]])\n"
     ]
    }
   ],
   "source": [
    "import torch\n",
    "x=torch.rand(5,3)\n",
    "print(x)"
   ]
  },
  {
   "cell_type": "code",
   "execution_count": 87,
   "metadata": {},
   "outputs": [
    {
     "name": "stdout",
     "output_type": "stream",
     "text": [
      "tensor([[-3.8791e-26,  1.6129e-42,  1.4013e-45],\n",
      "        [ 0.0000e+00,  1.4013e-45,  0.0000e+00],\n",
      "        [ 1.4013e-45,  0.0000e+00,  1.4013e-45],\n",
      "        [ 0.0000e+00,  1.4013e-45,  0.0000e+00],\n",
      "        [ 1.4013e-45,  0.0000e+00,  1.4013e-45]])\n",
      "tensor([[0.3811, 0.3787, 0.6217],\n",
      "        [0.7125, 0.2496, 0.3180],\n",
      "        [0.0522, 0.2475, 0.8153],\n",
      "        [0.9972, 0.5068, 0.0738],\n",
      "        [0.9327, 0.8820, 0.8912]])\n",
      "tensor([[0, 0, 0],\n",
      "        [0, 0, 0],\n",
      "        [0, 0, 0],\n",
      "        [0, 0, 0],\n",
      "        [0, 0, 0]])\n",
      "tensor([5.5000, 3.0000])\n"
     ]
    }
   ],
   "source": [
    "from __future__ import print_function\n",
    "import torch\n",
    "x=torch.empty(5,3) #构造一个5x3的矩阵，不进行初始化操作\n",
    "print(x)\n",
    "x=torch.rand(5,3) #构造一个随机初始化矩阵\n",
    "print(x)\n",
    "x=torch.zeros(5,3,dtype=torch.long) #构造一个矩阵为全0，而且数据类型是long\n",
    "print(x)\n",
    "x=torch.tensor([5.5,3]) # 构造一个张量，直接使用数据 \n",
    "print(x)"
   ]
  }
 ],
 "metadata": {
  "kernelspec": {
   "display_name": "opencv-python",
   "language": "python",
   "name": "python3"
  },
  "language_info": {
   "codemirror_mode": {
    "name": "ipython",
    "version": 3
   },
   "file_extension": ".py",
   "mimetype": "text/x-python",
   "name": "python",
   "nbconvert_exporter": "python",
   "pygments_lexer": "ipython3",
   "version": "3.12.4"
  }
 },
 "nbformat": 4,
 "nbformat_minor": 2
}
